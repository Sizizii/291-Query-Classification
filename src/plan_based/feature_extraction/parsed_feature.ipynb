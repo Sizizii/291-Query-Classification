{
 "cells": [
  {
   "cell_type": "code",
   "execution_count": 3,
   "metadata": {},
   "outputs": [],
   "source": [
    "import numpy as np\n",
    "import json\n",
    "import matplotlib.pyplot as plt\n",
    "from collections import defaultdict, deque"
   ]
  },
  {
   "cell_type": "code",
   "execution_count": 4,
   "metadata": {},
   "outputs": [],
   "source": [
    "raw_file = \"../../plans/raw/workload_100k_s1_c8220.json\"\n",
    "parsed_5k = \"../../plans/parsed/workload_5k_s1_c8220.json\"\n",
    "parsed_10k = \"../../plans/parsed/workload_10k_s1_c8220.json\""
   ]
  },
  {
   "cell_type": "code",
   "execution_count": 5,
   "metadata": {},
   "outputs": [],
   "source": [
    "with open(raw_file, \"r\") as f:\n",
    "    raw_data = json.load(f)\n",
    "\n",
    "with open(parsed_5k, \"r\") as f:\n",
    "    parsed_5k_plan = json.load(f)\n",
    "\n",
    "with open(parsed_10k, \"r\") as f:\n",
    "    parsed_10k_plan = json.load(f)"
   ]
  },
  {
   "cell_type": "code",
   "execution_count": 6,
   "metadata": {},
   "outputs": [],
   "source": [
    "import re\n",
    "\n",
    "planning_time_regex = re.compile('planning time: (?P<planning_time>\\d+.\\d+) ms')\n",
    "ex_time_regex = re.compile('execution time: (?P<execution_time>\\d+.\\d+) ms')\n",
    "init_plan_regex = re.compile(\"InitPlan \\d+ \\(returns \\$\\d\\)\")\n",
    "join_columns_regex = re.compile('\\w+\\.\\w+ ?= ?\\w+\\.\\w+')"
   ]
  },
  {
   "cell_type": "code",
   "execution_count": 7,
   "metadata": {},
   "outputs": [],
   "source": [
    "#### runtime statistics\n",
    "\n",
    "## for parsed plan\n",
    "def runtime_statistics(plans):\n",
    "  runtime = []\n",
    "  for i in range(len(plans)):\n",
    "    runtime.append(plans[i]['plan_runtime'])\n",
    "\n",
    "  return min(runtime), max(runtime), sum(runtime)/len(runtime), runtime\n",
    "\n",
    "min_runtime_5k, max_runtime_5k, mean_runtime_5k, run_5k = runtime_statistics(parsed_5k_plan['parsed_plans'])\n",
    "min_runtime_10k, max_runtime_10k, mean_runtime_10k, run_10k = runtime_statistics(parsed_10k_plan['parsed_plans'])"
   ]
  },
  {
   "cell_type": "code",
   "execution_count": 8,
   "metadata": {},
   "outputs": [
    {
     "name": "stdout",
     "output_type": "stream",
     "text": [
      "10000 15413\n"
     ]
    }
   ],
   "source": [
    "## for raw plain statement\n",
    "plain_statement_10k = []\n",
    "runtime_all = []\n",
    "\n",
    "count = 0\n",
    "\n",
    "for i in range(len(raw_data['query_list'])):\n",
    "  query = raw_data['query_list'][i]\n",
    "  sql_text = query['sql']\n",
    "  # print(i, \"\\n\")\n",
    "  # print(query['analyze_plans'])\n",
    "  if not query['analyze_plans'] == []:\n",
    "    runtime_text = query['analyze_plans'][0][-1][0]\n",
    "    runtime = float(re.search(r'(\\d+\\.\\d+)\\s*ms', runtime_text).group(1))\n",
    "    # print(sql_text, runtime_text)\n",
    "\n",
    "    if runtime >= 100 and runtime <= 30000:\n",
    "      data_entry = {\"sql\": sql_text, \"runtime_ms\": runtime}\n",
    "      # runtime_list.append(runtime)\n",
    "      runtime_all.append(runtime)\n",
    "\n",
    "      if count < 10000 and runtime == run_10k[count]:\n",
    "        plain_statement_10k.append(data_entry)\n",
    "        count += 1\n",
    "  \n",
    "# for entry in test_:\n",
    "#     print(entry)\n",
    "\n",
    "print(len(plain_statement_10k), len(raw_data['query_list']))"
   ]
  },
  {
   "cell_type": "code",
   "execution_count": 9,
   "metadata": {},
   "outputs": [],
   "source": [
    "# with open('../../plain_statement_10000.json', 'w') as json_file:\n",
    "#     json.dump(plain_statement_10k, json_file, indent=4)"
   ]
  },
  {
   "cell_type": "code",
   "execution_count": 10,
   "metadata": {},
   "outputs": [
    {
     "name": "stdout",
     "output_type": "stream",
     "text": [
      "100.017 29932.898 4308.366410100024 10000\n"
     ]
    }
   ],
   "source": [
    "print(min_runtime_10k, max_runtime_10k, mean_runtime_10k, len(run_10k))"
   ]
  },
  {
   "cell_type": "code",
   "execution_count": 11,
   "metadata": {},
   "outputs": [],
   "source": [
    "bins = np.linspace(0, 30000, 11)  # 10 bins from 0 to 30000\n",
    "hist_5k, _ = np.histogram(run_5k, bins=bins)\n",
    "bin_perc_5k = hist_5k / len(run_5k) * 100\n",
    "hist_10k, _ = np.histogram(run_10k, bins=bins)\n",
    "bin_perc_10k = hist_10k / len(run_10k) * 100\n",
    "hist_all, _ = np.histogram(runtime_all, bins=bins)\n",
    "bin_perc_all = hist_all / len(runtime_all) * 100"
   ]
  },
  {
   "cell_type": "code",
   "execution_count": 12,
   "metadata": {},
   "outputs": [
    {
     "data": {
      "image/png": "[encoded data removed]",
      "text/plain": [
       "<Figure size 640x480 with 1 Axes>"
      ]
     },
     "metadata": {},
     "output_type": "display_data"
    }
   ],
   "source": [
    "bin_width = bins[1] - bins[0]\n",
    "\n",
    "# Define x positions for the bars\n",
    "x_positions1 = bins[:-1]  # Shift left by bin_width/4\n",
    "x_positions2 = bins[:-1] + bin_width/2  # Shift right by bin_width/4\n",
    "\n",
    "#### plantime statistics\n",
    "plt.bar(x_positions1, bin_perc_all, width=bin_width/2, align='edge', alpha=0.4, label='plain statement', color='skyblue')\n",
    "plt.bar(x_positions2, bin_perc_5k, width=bin_width/2, align='edge', alpha=0.4, label='query plan', color='salmon')\n",
    "# plt.bar(x_positions2,  bin_perc_10k, width=bin_width/2, align='center', alpha=0.4, label='10k', color='salmon')\n",
    "plt.title(\"Runtime Statistics\")\n",
    "plt.xlabel(\"Runtime (s)\")\n",
    "plt.ylabel(\"Percentage (%)\")  # Include '%' sign\n",
    "plt.legend()\n",
    "\n",
    "plt.xticks(bins, [int(x/1000) for x in bins])\n",
    "\n",
    "plt.show()"
   ]
  },
  {
   "cell_type": "code",
   "execution_count": 63,
   "metadata": {},
   "outputs": [],
   "source": [
    "#### parsed plans\n",
    "## op_name count\n",
    "## aggregation count\n",
    "## filter_column operator count\n",
    "\n",
    "op_name_count = defaultdict(int)\n",
    "aggregation_count = defaultdict(int)\n",
    "filter_operator_count = defaultdict(int)\n",
    "plan_levels = []\n",
    "table_op = defaultdict(int)\n",
    "max_no_output = 0\n",
    "max_no_filter = 0\n",
    "node_output_count= defaultdict(int)\n",
    "node_output_op = defaultdict(set)\n",
    "max_count_avg = 0\n",
    "max_count_sum = 0\n",
    "max_count_count = 0\n",
    "\n",
    "fileds = set()\n",
    "\n",
    "idx = 0\n",
    "\n",
    "for plan in parsed_10k_plan['parsed_plans']:\n",
    "  level = 0\n",
    "\n",
    "  queue = deque([plan])\n",
    "\n",
    "  while queue:\n",
    "    level_count = len(queue)\n",
    "    while level_count > 0:\n",
    "      level_count -= 1\n",
    "      node = queue.popleft()\n",
    "      param = node['plan_parameters']\n",
    "\n",
    "      for key in param:\n",
    "        fileds.add(key)\n",
    "\n",
    "      op_name_count[param['op_name']] += 1\n",
    "\n",
    "      if 'table' in param:\n",
    "        table_op[param['op_name']] += 1\n",
    "\n",
    "      if 'output_columns' in param:\n",
    "        max_no_output = max(max_no_output, len(param['output_columns']))\n",
    "        node_output_count[len(param['output_columns'])] += 1\n",
    "        # if len(param['output_columns']) == 9:\n",
    "        #   print(param['output_columns'])\n",
    "        count_sum, count_avg, count_count = 0, 0, 0\n",
    "        for output in param['output_columns']:\n",
    "          aggregation_count[output['aggregation']] += 1\n",
    "          node_output_op[len(param['output_columns'])].add(output['aggregation'])\n",
    "\n",
    "          if output['aggregation'] == 'SUM':\n",
    "            count_sum += 1\n",
    "          elif output['aggregation'] == 'AVG':\n",
    "            count_avg += 1\n",
    "          elif output['aggregation'] == 'COUNT':\n",
    "            count_count += 1\n",
    "          elif output['aggregation'] != 'None':\n",
    "            print(\"Unknown aggregation\", output['aggregation'])\n",
    "        \n",
    "        max_count_sum = max(max_count_sum, count_sum)\n",
    "        max_count_avg = max(max_count_avg, count_avg)\n",
    "        max_count_count = max(max_count_count, count_count)\n",
    "\n",
    "        # if count_sum == 3:\n",
    "        #   print(param['output_columns'])\n",
    "      \n",
    "      if 'filter_columns' in param:\n",
    "        op = param['filter_columns']['operator']\n",
    "        filter_operator_count[op] += 1\n",
    "        if op == \"AND\":\n",
    "          max_no_filter = max(max_no_filter, len(param['filter_columns']['children']))\n",
    "          # if len(param['filter_columns']['children']) == 5:\n",
    "          #   print(param['filter_columns']['children'])\n",
    "          for filters in param['filter_columns']['children']:\n",
    "            # if filters == \"AND\":\n",
    "            #   print(\"Children in children\")\n",
    "            filter_operator_count[filters['operator']] += 1\n",
    "\n",
    "      for children in node['children']:\n",
    "        queue.append(children)\n",
    "\n",
    "    level += 1\n",
    "\n",
    "  idx += 1\n",
    "  plan_levels.append(level)"
   ]
  },
  {
   "cell_type": "code",
   "execution_count": 58,
   "metadata": {},
   "outputs": [
    {
     "name": "stdout",
     "output_type": "stream",
     "text": [
      "defaultdict(<class 'int'>, {1: 38197, 2: 36005, 9: 3847, 3: 22856, 4: 11071, 8: 455, 5: 7652, 16: 2545, 7: 2498, 6: 1281})\n",
      "defaultdict(<class 'set'>, {1: {'AVG', 'SUM', 'COUNT', 'None'}, 2: {'AVG', 'SUM', 'COUNT', 'None'}, 9: {'None'}, 3: {'AVG', 'SUM', 'COUNT', 'None'}, 4: {'None'}, 8: {'None'}, 5: {'None'}, 16: {'None'}, 7: {'None'}, 6: {'None'}})\n"
     ]
    }
   ],
   "source": [
    "print(node_output_count)\n",
    "print(node_output_op)"
   ]
  },
  {
   "cell_type": "code",
   "execution_count": 60,
   "metadata": {},
   "outputs": [
    {
     "name": "stdout",
     "output_type": "stream",
     "text": [
      "3 3 3\n"
     ]
    }
   ],
   "source": [
    "print(max_count_sum, max_count_avg, max_count_count)"
   ]
  },
  {
   "cell_type": "code",
   "execution_count": 34,
   "metadata": {},
   "outputs": [
    {
     "name": "stdout",
     "output_type": "stream",
     "text": [
      "defaultdict(<class 'int'>, {'Aggregate': 3374, 'Hash Join': 25970, 'Seq Scan': 29368, 'Hash': 25970, 'Gather': 10042, 'Merge Join': 2036, 'Sort': 4072, 'Materialize': 1793, 'Parallel Seq Scan': 10259, 'Finalize Aggregate': 6626, 'Partial Aggregate': 6626, 'Nested Loop': 1621, 'Gather Merge': 217}) \n",
      " defaultdict(<class 'int'>, {'SUM': 15566, 'None': 320645, 'COUNT': 13569, 'AVG': 15694}) \n",
      " defaultdict(<class 'int'>, {'=': 37244, '>=': 7898, 'AND': 10058, '<=': 7777, '!=': 6890})\n"
     ]
    }
   ],
   "source": [
    "print(op_name_count, '\\n', aggregation_count, '\\n', filter_operator_count)"
   ]
  },
  {
   "cell_type": "code",
   "execution_count": 41,
   "metadata": {},
   "outputs": [
    {
     "name": "stdout",
     "output_type": "stream",
     "text": [
      "5 16\n"
     ]
    }
   ],
   "source": [
    "print(max_no_filter, max_no_output)"
   ]
  },
  {
   "cell_type": "code",
   "execution_count": 36,
   "metadata": {},
   "outputs": [
    {
     "name": "stdout",
     "output_type": "stream",
     "text": [
      "defaultdict(<class 'int'>, {'Seq Scan': 29368, 'Parallel Seq Scan': 10259})\n"
     ]
    }
   ],
   "source": [
    "print(table_op)"
   ]
  },
  {
   "cell_type": "code",
   "execution_count": 38,
   "metadata": {},
   "outputs": [
    {
     "name": "stdout",
     "output_type": "stream",
     "text": [
      "{'table', 'act_startup_cost', 'est_startup_cost', 'act_children_card', 'est_cost', 'est_width', 'filter_columns', 'act_card', 'est_children_card', 'est_card', 'workers_planned', 'act_time', 'output_columns', 'op_name'}\n"
     ]
    }
   ],
   "source": [
    "print(fileds)"
   ]
  },
  {
   "cell_type": "code",
   "execution_count": 27,
   "metadata": {},
   "outputs": [
    {
     "name": "stdout",
     "output_type": "stream",
     "text": [
      "13\n"
     ]
    }
   ],
   "source": [
    "print(len(op_name_count))"
   ]
  },
  {
   "cell_type": "code",
   "execution_count": 29,
   "metadata": {},
   "outputs": [
    {
     "data": {
      "text/plain": [
       "{'plain_content': [],\n",
       " 'plan_parameters': {'op_name': 'Aggregate',\n",
       "  'est_startup_cost': 42268.64,\n",
       "  'est_cost': 42268.65,\n",
       "  'est_card': 1.0,\n",
       "  'est_width': 8.0,\n",
       "  'act_startup_cost': 133.386,\n",
       "  'act_time': 144.088,\n",
       "  'act_card': 1.0,\n",
       "  'output_columns': [{'aggregation': 'COUNT', 'columns': []}],\n",
       "  'act_children_card': 10.0,\n",
       "  'est_children_card': 11.0,\n",
       "  'workers_planned': 0},\n",
       " 'children': [{'plain_content': [],\n",
       "   'plan_parameters': {'op_name': 'Hash Join',\n",
       "    'est_startup_cost': 6648.28,\n",
       "    'est_cost': 42268.62,\n",
       "    'est_card': 11.0,\n",
       "    'est_width': 0.0,\n",
       "    'act_startup_cost': 19.572,\n",
       "    'act_time': 144.074,\n",
       "    'act_card': 10.0,\n",
       "    'filter_columns': {'column': 37,\n",
       "     'operator': '=',\n",
       "     'literal': 'customer.c_custkey  ',\n",
       "     'literal_feature': 0,\n",
       "     'children': []},\n",
       "    'act_children_card': 1733745.0,\n",
       "    'est_children_card': 1618864.0,\n",
       "    'workers_planned': 0},\n",
       "   'children': [{'plain_content': [],\n",
       "     'plan_parameters': {'op_name': 'Gather',\n",
       "      'est_startup_cost': 1000.0,\n",
       "      'est_cost': 36614.8,\n",
       "      'est_card': 1448.0,\n",
       "      'est_width': 4.0,\n",
       "      'act_startup_cost': 0.36,\n",
       "      'act_time': 127.203,\n",
       "      'act_card': 1569.0,\n",
       "      'workers_planned': 0,\n",
       "      'output_columns': [{'aggregation': 'None', 'columns': [37]}],\n",
       "      'act_children_card': 523.0,\n",
       "      'est_children_card': 603.0},\n",
       "     'children': [{'plain_content': [],\n",
       "       'plan_parameters': {'table': 6,\n",
       "        'op_name': 'Parallel Seq Scan',\n",
       "        'est_startup_cost': 0.0,\n",
       "        'est_cost': 35470.0,\n",
       "        'est_card': 603.0,\n",
       "        'est_width': 4.0,\n",
       "        'act_startup_cost': 0.12,\n",
       "        'act_time': 124.79,\n",
       "        'act_card': 523.0,\n",
       "        'filter_columns': {'column': None,\n",
       "         'operator': 'AND',\n",
       "         'literal': None,\n",
       "         'literal_feature': None,\n",
       "         'children': [{'column': 40,\n",
       "           'operator': '!=',\n",
       "           'literal': '1992-07-27',\n",
       "           'literal_feature': 0,\n",
       "           'children': []},\n",
       "          {'column': 42,\n",
       "           'operator': '=',\n",
       "           'literal': 'Clerk#000000682',\n",
       "           'literal_feature': 0,\n",
       "           'children': []}]},\n",
       "        'output_columns': [{'aggregation': 'None', 'columns': [37]}],\n",
       "        'act_children_card': 1,\n",
       "        'est_children_card': 1,\n",
       "        'workers_planned': 2},\n",
       "       'children': [],\n",
       "       'plan_runtime': 0}],\n",
       "     'plan_runtime': 0},\n",
       "    {'plain_content': [],\n",
       "     'plan_parameters': {'op_name': 'Hash',\n",
       "      'est_startup_cost': 5634.3,\n",
       "      'est_cost': 5634.3,\n",
       "      'est_card': 1118.0,\n",
       "      'est_width': 4.0,\n",
       "      'act_startup_cost': 16.459,\n",
       "      'act_time': 16.524,\n",
       "      'act_card': 1105.0,\n",
       "      'output_columns': [{'aggregation': 'None', 'columns': [28]}],\n",
       "      'act_children_card': 1105.0,\n",
       "      'est_children_card': 1118.0,\n",
       "      'workers_planned': 0},\n",
       "     'children': [{'plain_content': [],\n",
       "       'plan_parameters': {'op_name': 'Gather',\n",
       "        'est_startup_cost': 1000.0,\n",
       "        'est_cost': 5634.3,\n",
       "        'est_card': 1118.0,\n",
       "        'est_width': 4.0,\n",
       "        'act_startup_cost': 13.411,\n",
       "        'act_time': 16.285,\n",
       "        'act_card': 1105.0,\n",
       "        'workers_planned': 0,\n",
       "        'output_columns': [{'aggregation': 'None', 'columns': [28]}],\n",
       "        'act_children_card': 368.0,\n",
       "        'est_children_card': 466.0},\n",
       "       'children': [{'plain_content': [],\n",
       "         'plan_parameters': {'table': 5,\n",
       "          'op_name': 'Parallel Seq Scan',\n",
       "          'est_startup_cost': 0.0,\n",
       "          'est_cost': 4522.5,\n",
       "          'est_card': 466.0,\n",
       "          'est_width': 4.0,\n",
       "          'act_startup_cost': 10.676,\n",
       "          'act_time': 13.284,\n",
       "          'act_card': 368.0,\n",
       "          'filter_columns': {'column': None,\n",
       "           'operator': 'AND',\n",
       "           'literal': None,\n",
       "           'literal_feature': None,\n",
       "           'children': [{'column': 28,\n",
       "             'operator': '>=',\n",
       "             'literal': 120925.0,\n",
       "             'literal_feature': 0,\n",
       "             'children': []},\n",
       "            {'column': 31,\n",
       "             'operator': '<=',\n",
       "             'literal': 0.0,\n",
       "             'literal_feature': 0,\n",
       "             'children': []}]},\n",
       "          'output_columns': [{'aggregation': 'None', 'columns': [28]}],\n",
       "          'act_children_card': 1,\n",
       "          'est_children_card': 1,\n",
       "          'workers_planned': 2},\n",
       "         'children': [],\n",
       "         'plan_runtime': 0}],\n",
       "       'plan_runtime': 0}],\n",
       "     'plan_runtime': 0}],\n",
       "   'plan_runtime': 0}],\n",
       " 'plan_runtime': 144.182,\n",
       " 'join_conds': ['\"customer\".\"c_custkey\" = \"orders\".\"o_custkey\"']}"
      ]
     },
     "execution_count": 29,
     "metadata": {},
     "output_type": "execute_result"
    }
   ],
   "source": [
    "parsed_5k_plan['parsed_plans'][1293]"
   ]
  },
  {
   "cell_type": "code",
   "execution_count": 30,
   "metadata": {},
   "outputs": [
    {
     "name": "stdout",
     "output_type": "stream",
     "text": [
      "\n",
      "\n",
      "Level 0\n",
      "{'op_name': 'Aggregate', 'est_startup_cost': 42268.64, 'est_cost': 42268.65, 'est_card': 1.0, 'est_width': 8.0, 'act_startup_cost': 133.386, 'act_time': 144.088, 'act_card': 1.0, 'output_columns': [{'aggregation': 'COUNT', 'columns': []}], 'act_children_card': 10.0, 'est_children_card': 11.0, 'workers_planned': 0}\n",
      "\n",
      "\n",
      "Level 1\n",
      "{'op_name': 'Hash Join', 'est_startup_cost': 6648.28, 'est_cost': 42268.62, 'est_card': 11.0, 'est_width': 0.0, 'act_startup_cost': 19.572, 'act_time': 144.074, 'act_card': 10.0, 'filter_columns': {'column': 37, 'operator': '=', 'literal': 'customer.c_custkey  ', 'literal_feature': 0, 'children': []}, 'act_children_card': 1733745.0, 'est_children_card': 1618864.0, 'workers_planned': 0}\n",
      "\n",
      "\n",
      "Level 2\n",
      "{'op_name': 'Gather', 'est_startup_cost': 1000.0, 'est_cost': 36614.8, 'est_card': 1448.0, 'est_width': 4.0, 'act_startup_cost': 0.36, 'act_time': 127.203, 'act_card': 1569.0, 'workers_planned': 0, 'output_columns': [{'aggregation': 'None', 'columns': [37]}], 'act_children_card': 523.0, 'est_children_card': 603.0}\n",
      "{'op_name': 'Hash', 'est_startup_cost': 5634.3, 'est_cost': 5634.3, 'est_card': 1118.0, 'est_width': 4.0, 'act_startup_cost': 16.459, 'act_time': 16.524, 'act_card': 1105.0, 'output_columns': [{'aggregation': 'None', 'columns': [28]}], 'act_children_card': 1105.0, 'est_children_card': 1118.0, 'workers_planned': 0}\n",
      "\n",
      "\n",
      "Level 3\n",
      "{'table': 6, 'op_name': 'Parallel Seq Scan', 'est_startup_cost': 0.0, 'est_cost': 35470.0, 'est_card': 603.0, 'est_width': 4.0, 'act_startup_cost': 0.12, 'act_time': 124.79, 'act_card': 523.0, 'filter_columns': {'column': None, 'operator': 'AND', 'literal': None, 'literal_feature': None, 'children': [{'column': 40, 'operator': '!=', 'literal': '1992-07-27', 'literal_feature': 0, 'children': []}, {'column': 42, 'operator': '=', 'literal': 'Clerk#000000682', 'literal_feature': 0, 'children': []}]}, 'output_columns': [{'aggregation': 'None', 'columns': [37]}], 'act_children_card': 1, 'est_children_card': 1, 'workers_planned': 2}\n",
      "{'op_name': 'Gather', 'est_startup_cost': 1000.0, 'est_cost': 5634.3, 'est_card': 1118.0, 'est_width': 4.0, 'act_startup_cost': 13.411, 'act_time': 16.285, 'act_card': 1105.0, 'workers_planned': 0, 'output_columns': [{'aggregation': 'None', 'columns': [28]}], 'act_children_card': 368.0, 'est_children_card': 466.0}\n",
      "\n",
      "\n",
      "Level 4\n",
      "{'table': 5, 'op_name': 'Parallel Seq Scan', 'est_startup_cost': 0.0, 'est_cost': 4522.5, 'est_card': 466.0, 'est_width': 4.0, 'act_startup_cost': 10.676, 'act_time': 13.284, 'act_card': 368.0, 'filter_columns': {'column': None, 'operator': 'AND', 'literal': None, 'literal_feature': None, 'children': [{'column': 28, 'operator': '>=', 'literal': 120925.0, 'literal_feature': 0, 'children': []}, {'column': 31, 'operator': '<=', 'literal': 0.0, 'literal_feature': 0, 'children': []}]}, 'output_columns': [{'aggregation': 'None', 'columns': [28]}], 'act_children_card': 1, 'est_children_card': 1, 'workers_planned': 2}\n"
     ]
    }
   ],
   "source": [
    "root = parsed_5k_plan['parsed_plans'][1293]\n",
    "level = 0\n",
    "\n",
    "queue = deque([root])\n",
    "\n",
    "while queue:\n",
    "  level_count = len(queue)\n",
    "  print(\"\\n\")\n",
    "  print(\"Level\", level)\n",
    "  while level_count > 0:\n",
    "    level_count -= 1\n",
    "    node = queue.popleft()\n",
    "    print(node['plan_parameters'])\n",
    "\n",
    "    for children in node['children']:\n",
    "      queue.append(children)\n",
    "\n",
    "  level += 1\n"
   ]
  },
  {
   "cell_type": "code",
   "execution_count": null,
   "metadata": {},
   "outputs": [],
   "source": []
  }
 ],
 "metadata": {
  "kernelspec": {
   "display_name": "pytorch_env",
   "language": "python",
   "name": "python3"
  },
  "language_info": {
   "codemirror_mode": {
    "name": "ipython",
    "version": 3
   },
   "file_extension": ".py",
   "mimetype": "text/x-python",
   "name": "python",
   "nbconvert_exporter": "python",
   "pygments_lexer": "ipython3",
   "version": "3.10.14"
  }
 },
 "nbformat": 4,
 "nbformat_minor": 2
}
