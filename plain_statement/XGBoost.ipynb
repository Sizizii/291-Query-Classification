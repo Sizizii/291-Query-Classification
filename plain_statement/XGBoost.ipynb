{
 "cells": [
  {
   "cell_type": "code",
   "execution_count": 22,
   "metadata": {},
   "outputs": [],
   "source": [
    "import json\n",
    "import re\n",
    "import torch\n",
    "import torch.nn as nn\n",
    "import numpy as np\n",
    "from sklearn.model_selection import train_test_split\n",
    "from sklearn.metrics import accuracy_score"
   ]
  },
  {
   "cell_type": "code",
   "execution_count": 23,
   "metadata": {},
   "outputs": [],
   "source": [
    "# read data from .json file\n",
    "\n",
    "with open(\"plain_statement.json\") as f:\n",
    "    json_data = json.load(f)\n",
    "\n",
    "plain_sql = [item['sql'] for item in json_data]\n",
    "plain_sql = [sql.lower() for sql in plain_sql]"
   ]
  },
  {
   "cell_type": "code",
   "execution_count": 24,
   "metadata": {},
   "outputs": [],
   "source": [
    "# split data into tokens\n",
    "\n",
    "pattern = r'[\\s()\\-,:;]'\n",
    "string_literal_pattern = r\"'([^']*)'\"\n",
    "placeholder = \"<string>\"\n",
    "\n",
    "# replace content inside single quotes by <string>\n",
    "plain_sql_ph = [re.sub(string_literal_pattern, placeholder, sql) for sql in plain_sql]\n",
    "\n",
    "# split the statements with placeholder\n",
    "tokenized_sql = [re.split(pattern, sql) for sql in plain_sql_ph]\n",
    "\n",
    "# remove empty tokens\n",
    "tokenized_sql = [token for token in tokenized_sql if token]\n",
    "\n",
    "# replace numbers by placeholder\n",
    "for sql in tokenized_sql:\n",
    "    for i, token in enumerate(sql):\n",
    "        # if re.match(r'^[\\'\\\"].*[\\'\\\"]$', token):  # Check if token is a string literal\n",
    "        #     sql[i] = '<string>'\n",
    "        if re.match(r'^[0-9]+(\\.[0-9]+)?$', token):  # Check if token is a number\n",
    "            sql[i] = '<number>'\n",
    "\n",
    "# remove empty tokens\n",
    "for i, sql in enumerate(tokenized_sql):\n",
    "    tokenized_sql[i] = [token for token in tokenized_sql[i] if token]"
   ]
  },
  {
   "cell_type": "code",
   "execution_count": 25,
   "metadata": {},
   "outputs": [],
   "source": [
    "# build the vocab\n",
    "vocab_set = set()\n",
    "for sql in tokenized_sql:\n",
    "    vocab_set.update(sql)\n",
    "\n",
    "vocab_dict = {word: idx for idx, word in enumerate(vocab_set)}"
   ]
  },
  {
   "cell_type": "code",
   "execution_count": 26,
   "metadata": {},
   "outputs": [],
   "source": [
    "# get the runtimes\n",
    "runtime = [item['runtime_ms'] for item in json_data]\n",
    "runtime = np.array(runtime)\n",
    "\n",
    "# classify the runtimes, label 0 for runtime <=3000ms, 1 for runtime >3000ms\n",
    "label = np.where(runtime > 3000, 1, 0)"
   ]
  },
  {
   "cell_type": "markdown",
   "metadata": {},
   "source": [
    "sklearn CountVectorizer"
   ]
  },
  {
   "cell_type": "code",
   "execution_count": 27,
   "metadata": {},
   "outputs": [],
   "source": [
    "from sklearn.feature_extraction.text import CountVectorizer\n",
    "import xgboost as xgb\n",
    "\n",
    "vectorizer = CountVectorizer(vocabulary=vocab_set)\n",
    "X = vectorizer.fit_transform(plain_sql_ph)"
   ]
  },
  {
   "cell_type": "code",
   "execution_count": 28,
   "metadata": {},
   "outputs": [
    {
     "name": "stdout",
     "output_type": "stream",
     "text": [
      "Accuracy: 0.7291861552853134\n"
     ]
    }
   ],
   "source": [
    "# Split the data into training and testing sets\n",
    "X_train, X_test, y_train, y_test = train_test_split(X, label, test_size=0.2)\n",
    "\n",
    "# Initialize the random forest classifier\n",
    "clf = xgb.XGBClassifier()\n",
    "\n",
    "# Train the random forest classifier\n",
    "clf.fit(X_train, y_train)\n",
    "\n",
    "# Predict the labels for the test set\n",
    "y_pred = clf.predict(X_test)\n",
    "\n",
    "# Evaluate the accuracy of the model\n",
    "accuracy = accuracy_score(y_test, y_pred)\n",
    "print(\"Accuracy:\", accuracy)"
   ]
  },
  {
   "cell_type": "markdown",
   "metadata": {},
   "source": [
    "PyTorch Embedding"
   ]
  },
  {
   "cell_type": "code",
   "execution_count": 29,
   "metadata": {},
   "outputs": [],
   "source": [
    "# define embedding layer\n",
    "vocab_size = len(vocab_dict)\n",
    "embedding_dim = 10\n",
    "embedding = nn.Embedding(vocab_size, embedding_dim)"
   ]
  },
  {
   "cell_type": "code",
   "execution_count": 30,
   "metadata": {},
   "outputs": [],
   "source": [
    "# convert tokens to indices for each sample\n",
    "indices = [torch.LongTensor([vocab_dict[token] for token in sql]) for sql in tokenized_sql]\n",
    "\n",
    "X_torch = []\n",
    "\n",
    "for index in indices:\n",
    "    emb = embedding(index)\n",
    "    sum = torch.sum(emb, dim=0)\n",
    "    X_torch.append(sum.tolist())\n",
    "\n",
    "X_torch = np.array(X_torch)"
   ]
  },
  {
   "cell_type": "code",
   "execution_count": 31,
   "metadata": {},
   "outputs": [
    {
     "name": "stdout",
     "output_type": "stream",
     "text": [
      "Accuracy: 0.7492984097287184\n"
     ]
    }
   ],
   "source": [
    "# Split the data into training and testing sets\n",
    "X_train_torch, X_test_torch, y_train_torch, y_test_torch = train_test_split(X_torch, label, test_size=0.2)\n",
    "\n",
    "# Initialize the random forest classifier\n",
    "clf_torch = xgb.XGBClassifier()\n",
    "\n",
    "# Train the random forest classifier\n",
    "clf_torch.fit(X_train_torch, y_train_torch)\n",
    "\n",
    "# Predict the labels for the test set\n",
    "y_pred_torch = clf_torch.predict(X_test_torch)\n",
    "\n",
    "# Evaluate the accuracy of the model\n",
    "accuracy_torch = accuracy_score(y_test_torch, y_pred_torch)\n",
    "print(\"Accuracy:\", accuracy_torch)"
   ]
  },
  {
   "cell_type": "code",
   "execution_count": 34,
   "metadata": {},
   "outputs": [
    {
     "name": "stdout",
     "output_type": "stream",
     "text": [
      "Accuracy at embedding_dim 10 :  0.7464920486435921\n",
      "Accuracy at embedding_dim 30 :  0.7759588400374181\n",
      "Accuracy at embedding_dim 50 :  0.8063610851262862\n",
      "Accuracy at embedding_dim 70 :  0.8129092609915809\n",
      "Accuracy at embedding_dim 90 :  0.8208606173994387\n"
     ]
    }
   ],
   "source": [
    "# Fine tune on embedding dimension\n",
    "vocab_size = len(vocab_dict)\n",
    "dim_candidate = [10, 30, 50, 70, 90] \n",
    "for embedding_dim in dim_candidate:\n",
    "    embedding = nn.Embedding(vocab_size, embedding_dim)\n",
    "    indices = [torch.LongTensor([vocab_dict[token] for token in sql]) for sql in tokenized_sql]\n",
    "\n",
    "    X_torch = []\n",
    "\n",
    "    for index in indices:\n",
    "        emb = embedding(index)\n",
    "        sum = torch.sum(emb, dim=0)\n",
    "        X_torch.append(sum.tolist())\n",
    "    X_torch = np.array(X_torch)\n",
    "    # Split the data into training and testing sets\n",
    "    X_train_torch, X_test_torch, y_train_torch, y_test_torch = train_test_split(X_torch, label, test_size=0.2)\n",
    "\n",
    "    # Initialize the XGboost classifier\n",
    "    clf_torch = xgb.XGBClassifier()\n",
    "\n",
    "    # Train the XGboost classifier\n",
    "    clf_torch.fit(X_train_torch, y_train_torch)\n",
    "\n",
    "    # Predict the labels for the test set\n",
    "    y_pred_torch = clf_torch.predict(X_test_torch)\n",
    "\n",
    "    # Evaluate the accuracy of the model\n",
    "    accuracy_torch = accuracy_score(y_test_torch, y_pred_torch)\n",
    "    print(\"Accuracy at embedding_dim\",embedding_dim, \": \", accuracy_torch)"
   ]
  }
 ],
 "metadata": {
  "kernelspec": {
   "display_name": "Python 3",
   "language": "python",
   "name": "python3"
  },
  "language_info": {
   "codemirror_mode": {
    "name": "ipython",
    "version": 3
   },
   "file_extension": ".py",
   "mimetype": "text/x-python",
   "name": "python",
   "nbconvert_exporter": "python",
   "pygments_lexer": "ipython3",
   "version": "3.9.18"
  }
 },
 "nbformat": 4,
 "nbformat_minor": 2
}
