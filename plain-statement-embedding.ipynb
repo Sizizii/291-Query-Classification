{
 "cells": [
  {
   "cell_type": "code",
   "execution_count": 1,
   "metadata": {},
   "outputs": [],
   "source": [
    "import json\n",
    "import re\n",
    "from sklearn.feature_extraction.text import CountVectorizer"
   ]
  },
  {
   "cell_type": "code",
   "execution_count": 2,
   "metadata": {},
   "outputs": [],
   "source": [
    "# read data from .json file\n",
    "\n",
    "with open(\"plain_statement_5000.json\") as f:\n",
    "    json_data = json.load(f)\n",
    "\n",
    "plain_sql = [item['sql'] for item in json_data]\n",
    "plain_sql = [sql.lower() for sql in plain_sql]"
   ]
  },
  {
   "cell_type": "code",
   "execution_count": 3,
   "metadata": {},
   "outputs": [],
   "source": [
    "# split data into tokens\n",
    "\n",
    "pattern = r'[\\s()\\-,:;]'\n",
    "string_literal_pattern = r\"'([^']*)'\"\n",
    "placeholder = \"<string>\"\n",
    "\n",
    "# replace content inside single quotes by <string>\n",
    "plain_sql_ph = [re.sub(string_literal_pattern, placeholder, sql) for sql in plain_sql]\n",
    "\n",
    "# split the statements with placeholder\n",
    "tokenized_sql = [re.split(pattern, sql) for sql in plain_sql_ph]\n",
    "\n",
    "# remove empty tokens\n",
    "tokenized_sql = [token for token in tokenized_sql if token]\n",
    "\n",
    "# replace string literals and numbers by placeholder\n",
    "for sql in tokenized_sql:\n",
    "    for i, token in enumerate(sql):\n",
    "        if re.match(r'^[\\'\\\"].*[\\'\\\"]$', token):  # Check if token is a string literal\n",
    "            sql[i] = '<string>'\n",
    "        elif re.match(r'^[0-9]+(\\.[0-9]+)?$', token):  # Check if token is a number\n",
    "            sql[i] = '<number>'"
   ]
  },
  {
   "cell_type": "code",
   "execution_count": 9,
   "metadata": {},
   "outputs": [],
   "source": [
    "# build the vocab\n",
    "#vocab = set()\n",
    "vocab = {}\n",
    "for sql in tokenized_sql:\n",
    "    '''\n",
    "    for element in sql:\n",
    "        if element in vocab.keys():\n",
    "            vocab[element] += 1\n",
    "        else:\n",
    "            vocab[element] = 1\n",
    "    '''\n",
    "    vocab.update(sql)\n",
    "\n",
    "# count vectorization\n",
    "vectorizer = CountVectorizer(vocabulary=vocab)\n",
    "X = vectorizer.fit_transform(plain_sql)"
   ]
  },
  {
   "cell_type": "code",
   "execution_count": 10,
   "metadata": {},
   "outputs": [
    {
     "name": "stdout",
     "output_type": "stream",
     "text": [
      "{'select': 5000, 'sum': 3367, '\"orders\".\"o_custkey\"': 2335, '+': 3372, '\"orders\".\"o_shippriority\"': 613, '': 25229, 'from': 5000, '\"lineitem\"': 3673, 'join': 14927, '\"partsupp\"': 4069, 'on': 14927, '\"lineitem\".\"l_partkey\"': 3757, '=': 20847, '\"partsupp\".\"ps_partkey\"': 6701, 'and': 12147, '\"lineitem\".\"l_suppkey\"': 3729, '\"partsupp\".\"ps_suppkey\"': 7137, '\"supplier\"': 2816, '\"supplier\".\"s_suppkey\"': 3380, '\"part\"': 2369, '\"part\".\"p_partkey\"': 2930, '\"orders\"': 2666, '\"lineitem\".\"l_orderkey\"': 2981, '\"orders\".\"o_orderkey\"': 2951, '\"nation\"': 1652, '\"supplier\".\"s_nationkey\"': 2187, '\"nation\".\"n_nationkey\"': 2095, 'where': 5000, '>=': 3917, '<number>': 8699, '<=': 3838, 'count': 3337, '*': 3337, '\"lineitem\".\"l_linenumber\"': 591, '\"lineitem\".\"l_tax\"': 643, '\"lineitem\".\"l_linestatus\"': 214, '<string>': 5359, '\"lineitem\".\"l_quantity\"': 625, '!=': 3472, '\"lineitem\".\"l_discount\"': 641, '\"customer\"': 1695, '\"customer\".\"c_custkey\"': 2227, '\"customer\".\"c_acctbal\"': 550, '\"partsupp\".\"ps_availqty\"': 1220, '\"supplier\".\"s_acctbal\"': 636, '\"orders\".\"o_clerk\"': 290, '\"supplier\".\"s_phone\"': 207, '\"lineitem\".\"l_receiptdate\"': 184, '\"lineitem\".\"l_shipinstruct\"': 212, '\"partsupp\".\"ps_supplycost\"': 1322, '\"region\"': 987, '\"nation\".\"n_regionkey\"': 1422, '\"region\".\"r_regionkey\"': 1264, '\"nation\".\"n_name\"': 222, '\"supplier\".\"s_comment\"': 198, 'avg': 3389, '\"orders\".\"o_orderstatus\"': 285, '\"orders\".\"o_totalprice\"': 687, '\"part\".\"p_retailprice\"': 535, '\"supplier\".\"s_address\"': 196, '\"part\".\"p_brand\"': 239, '\"part\".\"p_size\"': 534, '\"lineitem\".\"l_extendedprice\"': 641, '\"supplier\".\"s_name\"': 215, '\"region\".\"r_name\"': 181, '\"customer\".\"c_nationkey\"': 525, '\"orders\".\"o_orderdate\"': 252, '\"orders\".\"o_orderpriority\"': 303, '\"customer\".\"c_mktsegment\"': 335, '\"region\".\"r_comment\"': 156, '\"lineitem\".\"l_returnflag\"': 182, '\"part\".\"p_mfgr\"': 270, '\"lineitem\".\"l_shipdate\"': 170, '\"part\".\"p_container\"': 250, '\"nation\".\"n_comment\"': 209, '\"lineitem\".\"l_shipmode\"': 223, '\"part\".\"p_type\"': 211, '\"lineitem\".\"l_commitdate\"': 155}\n"
     ]
    }
   ],
   "source": [
    "print(vocab)"
   ]
  }
 ],
 "metadata": {
  "kernelspec": {
   "display_name": "Python 3",
   "language": "python",
   "name": "python3"
  },
  "language_info": {
   "codemirror_mode": {
    "name": "ipython",
    "version": 3
   },
   "file_extension": ".py",
   "mimetype": "text/x-python",
   "name": "python",
   "nbconvert_exporter": "python",
   "pygments_lexer": "ipython3",
   "version": "3.9.18"
  }
 },
 "nbformat": 4,
 "nbformat_minor": 2
}
