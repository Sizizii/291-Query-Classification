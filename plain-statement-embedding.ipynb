{
 "cells": [
  {
   "cell_type": "code",
   "execution_count": 12,
   "metadata": {},
   "outputs": [],
   "source": [
    "import json\n",
    "import re\n",
    "from sklearn.feature_extraction.text import CountVectorizer"
   ]
  },
  {
   "cell_type": "code",
   "execution_count": 13,
   "metadata": {},
   "outputs": [],
   "source": [
    "# read data from .json file\n",
    "\n",
    "with open(\"plain_statement_5000.json\") as f:\n",
    "    json_data = json.load(f)\n",
    "\n",
    "plain_sql = [item['sql'] for item in json_data]\n",
    "plain_sql = [sql.lower() for sql in plain_sql]"
   ]
  },
  {
   "cell_type": "code",
   "execution_count": 14,
   "metadata": {},
   "outputs": [],
   "source": [
    "# split data into tokens\n",
    "\n",
    "pattern = r'[\\s()\\-,:;]'\n",
    "string_literal_pattern = r\"'([^']*)'\"\n",
    "placeholder = \"<string>\"\n",
    "\n",
    "# replace content inside single quotes by <string>\n",
    "plain_sql_ph = [re.sub(string_literal_pattern, placeholder, sql) for sql in plain_sql]\n",
    "\n",
    "# split the statements with placeholder\n",
    "tokenized_sql = [re.split(pattern, sql) for sql in plain_sql_ph]\n",
    "\n",
    "# remove empty tokens\n",
    "tokenized_sql = [token for token in tokenized_sql if token]\n",
    "\n",
    "# replace string literals and numbers by placeholder\n",
    "for sql in tokenized_sql:\n",
    "    for i, token in enumerate(sql):\n",
    "        if re.match(r'^[\\'\\\"].*[\\'\\\"]$', token):  # Check if token is a string literal\n",
    "            sql[i] = '<string>'\n",
    "        elif re.match(r'^[0-9]+(\\.[0-9]+)?$', token):  # Check if token is a number\n",
    "            sql[i] = '<number>'"
   ]
  },
  {
   "cell_type": "code",
   "execution_count": 15,
   "metadata": {},
   "outputs": [],
   "source": [
    "# build the vocab\n",
    "vocab = set()\n",
    "for sql in tokenized_sql:\n",
    "    vocab.update(sql)\n",
    "\n",
    "# count vectorization\n",
    "vectorizer = CountVectorizer(vocabulary=vocab)\n",
    "X = vectorizer.fit_transform(plain_sql)"
   ]
  },
  {
   "cell_type": "code",
   "execution_count": 16,
   "metadata": {},
   "outputs": [
    {
     "name": "stdout",
     "output_type": "stream",
     "text": [
      "{'', 'sum', 'join', '=', '>=', '<=', 'on', 'from', 'where', 'count', '<string>', '*', 'and', '+', '!=', 'avg', 'select', '<number>'}\n"
     ]
    }
   ],
   "source": [
    "print(vocab)"
   ]
  }
 ],
 "metadata": {
  "kernelspec": {
   "display_name": "Python 3",
   "language": "python",
   "name": "python3"
  },
  "language_info": {
   "codemirror_mode": {
    "name": "ipython",
    "version": 3
   },
   "file_extension": ".py",
   "mimetype": "text/x-python",
   "name": "python",
   "nbconvert_exporter": "python",
   "pygments_lexer": "ipython3",
   "version": "3.10.8"
  }
 },
 "nbformat": 4,
 "nbformat_minor": 2
}
